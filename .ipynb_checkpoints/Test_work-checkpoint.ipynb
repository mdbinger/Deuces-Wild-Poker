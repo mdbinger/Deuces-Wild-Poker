{
 "cells": [
  {
   "cell_type": "code",
   "execution_count": 1,
   "id": "19773884",
   "metadata": {},
   "outputs": [],
   "source": [
    "import random\n",
    "import collections\n",
    "from fractions import Fraction\n",
    "import pandas as pd\n",
    "import itertools\n"
   ]
  },
  {
   "cell_type": "code",
   "execution_count": 2,
   "id": "482fd673",
   "metadata": {},
   "outputs": [],
   "source": [
    "hands_df = pd.read_csv('../Extra_Storage/UPDATED_ALL_HAND_OPTIONS.csv')  \n",
    "hands_df = hands_df.drop(columns=['Unnamed: 0', 'Unnamed: 0.1'])"
   ]
  },
  {
   "cell_type": "code",
   "execution_count": null,
   "id": "d56bd0f4",
   "metadata": {},
   "outputs": [],
   "source": []
  },
  {
   "cell_type": "code",
   "execution_count": 3,
   "id": "7530c776",
   "metadata": {},
   "outputs": [
    {
     "data": {
      "text/plain": [
       "[]"
      ]
     },
     "execution_count": 3,
     "metadata": {},
     "output_type": "execute_result"
    }
   ],
   "source": [
    "discard_list = [0,1,2,3,4]\n",
    "all_discard_options = []\n",
    "for L in range(len(discard_list) + 1):\n",
    "    for subset in itertools.combinations(discard_list, L):\n",
    "        discard_option = list(subset)\n",
    "        all_discard_options.append(discard_option)\n",
    "        \n",
    "all_discard_options.pop(0)"
   ]
  },
  {
   "cell_type": "code",
   "execution_count": 4,
   "id": "1b3c867a",
   "metadata": {},
   "outputs": [
    {
     "data": {
      "text/plain": [
       "[[0],\n",
       " [1],\n",
       " [2],\n",
       " [3],\n",
       " [4],\n",
       " [0, 1],\n",
       " [0, 2],\n",
       " [0, 3],\n",
       " [0, 4],\n",
       " [1, 2],\n",
       " [1, 3],\n",
       " [1, 4],\n",
       " [2, 3],\n",
       " [2, 4],\n",
       " [3, 4],\n",
       " [0, 1, 2],\n",
       " [0, 1, 3],\n",
       " [0, 1, 4],\n",
       " [0, 2, 3],\n",
       " [0, 2, 4],\n",
       " [0, 3, 4],\n",
       " [1, 2, 3],\n",
       " [1, 2, 4],\n",
       " [1, 3, 4],\n",
       " [2, 3, 4],\n",
       " [0, 1, 2, 3],\n",
       " [0, 1, 2, 4],\n",
       " [0, 1, 3, 4],\n",
       " [0, 2, 3, 4],\n",
       " [1, 2, 3, 4],\n",
       " [0, 1, 2, 3, 4]]"
      ]
     },
     "execution_count": 4,
     "metadata": {},
     "output_type": "execute_result"
    }
   ],
   "source": [
    "all_discard_options"
   ]
  },
  {
   "cell_type": "code",
   "execution_count": 5,
   "id": "b723eae1",
   "metadata": {},
   "outputs": [],
   "source": [
    "card_deck = []\n",
    "\n",
    "i = 2\n",
    "j = 1\n",
    "while i < 15 and j < 5:\n",
    "    card = []\n",
    "    card.append(i)\n",
    "    \n",
    "    if j == 1:\n",
    "        card.append('Heart')\n",
    "    elif j == 2:\n",
    "        card.append('Diamond')\n",
    "    elif j == 3:\n",
    "        card.append('Spade')\n",
    "    elif j == 4:\n",
    "        card.append('Club')\n",
    "    \n",
    "    if i == 2:\n",
    "        card.append('Y')\n",
    "    else:\n",
    "        card.append('N')\n",
    "        \n",
    "    if i == 14:\n",
    "        j = j + 1\n",
    "        i = 1\n",
    "    \n",
    "    card_deck.append(card)\n",
    "    i = i + 1\n",
    "    "
   ]
  },
  {
   "cell_type": "code",
   "execution_count": 6,
   "id": "6ac7cfa3",
   "metadata": {},
   "outputs": [
    {
     "data": {
      "text/plain": [
       "[[12, 'Spade', 'N'],\n",
       " [13, 'Spade', 'N'],\n",
       " [5, 'Heart', 'N'],\n",
       " [5, 'Spade', 'N'],\n",
       " [6, 'Spade', 'N']]"
      ]
     },
     "execution_count": 6,
     "metadata": {},
     "output_type": "execute_result"
    }
   ],
   "source": [
    "i = 1\n",
    "j = 52\n",
    "card_hand = []\n",
    "\n",
    "while i < 6:\n",
    "    x = random.randrange(0, j)    \n",
    "    dealt_card = card_deck.pop(x)\n",
    "    card_hand.append(dealt_card)\n",
    "    i = i + 1\n",
    "    j = j - 1\n",
    "    \n",
    "first_dealt_hand = card_hand\n",
    "string_first_hand = str(first_dealt_hand)\n",
    "first_dealt_hand\n"
   ]
  },
  {
   "cell_type": "code",
   "execution_count": 7,
   "id": "c941ea0e",
   "metadata": {},
   "outputs": [
    {
     "data": {
      "text/plain": [
       "['0',\n",
       " '1',\n",
       " '2',\n",
       " '3',\n",
       " '4',\n",
       " '01',\n",
       " '02',\n",
       " '03',\n",
       " '04',\n",
       " '12',\n",
       " '13',\n",
       " '14',\n",
       " '23',\n",
       " '24',\n",
       " '34',\n",
       " '012',\n",
       " '013',\n",
       " '014',\n",
       " '023',\n",
       " '024',\n",
       " '034',\n",
       " '123',\n",
       " '124',\n",
       " '134',\n",
       " '234',\n",
       " '0123',\n",
       " '0124',\n",
       " '0134',\n",
       " '0234',\n",
       " '1234',\n",
       " '01234']"
      ]
     },
     "execution_count": 7,
     "metadata": {},
     "output_type": "execute_result"
    }
   ],
   "source": [
    "# potential_discarded_card\n",
    "all_discard_options\n",
    "\n",
    "complete_discard_list = []\n",
    "\n",
    "for item in all_discard_options:\n",
    "    discard_string = ''\n",
    "\n",
    "    for mini_item in item:\n",
    "        temp_string = str(mini_item)\n",
    "        discard_string = discard_string + temp_string\n",
    "        \n",
    "    complete_discard_list.append(discard_string)\n",
    "    \n",
    "complete_discard_list"
   ]
  },
  {
   "cell_type": "code",
   "execution_count": 8,
   "id": "5d16511e",
   "metadata": {},
   "outputs": [
    {
     "data": {
      "text/plain": [
       "[]"
      ]
     },
     "execution_count": 8,
     "metadata": {},
     "output_type": "execute_result"
    }
   ],
   "source": [
    "test_discarded_card_position_list = [*complete_discard_list[-1]]\n",
    "\n",
    "k = 0\n",
    "discarded_cards = []\n",
    "for item in test_discarded_card_position_list:\n",
    "    num_item = int(item)\n",
    "    card_position = num_item - k\n",
    "    discard = first_dealt_hand.pop(card_position)\n",
    "    discarded_cards.append(discard)\n",
    "    k = k + 1\n",
    "\n",
    "string_hand = []    \n",
    "for item in first_dealt_hand:\n",
    "    new_item = str(item)\n",
    "    string_hand.append(new_item)\n",
    "\n",
    "string_hand"
   ]
  },
  {
   "cell_type": "code",
   "execution_count": 13,
   "id": "604b410d",
   "metadata": {},
   "outputs": [
    {
     "data": {
      "text/html": [
       "<div>\n",
       "<style scoped>\n",
       "    .dataframe tbody tr th:only-of-type {\n",
       "        vertical-align: middle;\n",
       "    }\n",
       "\n",
       "    .dataframe tbody tr th {\n",
       "        vertical-align: top;\n",
       "    }\n",
       "\n",
       "    .dataframe thead th {\n",
       "        text-align: right;\n",
       "    }\n",
       "</style>\n",
       "<table border=\"1\" class=\"dataframe\">\n",
       "  <thead>\n",
       "    <tr style=\"text-align: right;\">\n",
       "      <th></th>\n",
       "      <th>Result</th>\n",
       "      <th>Percentage</th>\n",
       "    </tr>\n",
       "  </thead>\n",
       "  <tbody>\n",
       "    <tr>\n",
       "      <th>['Loss']</th>\n",
       "      <td>2120736</td>\n",
       "      <td>81.59941%</td>\n",
       "    </tr>\n",
       "    <tr>\n",
       "      <th>['Three of a Kind']</th>\n",
       "      <td>367848</td>\n",
       "      <td>14.15366%</td>\n",
       "    </tr>\n",
       "    <tr>\n",
       "      <th>['Straight']</th>\n",
       "      <td>51096</td>\n",
       "      <td>1.96602%</td>\n",
       "    </tr>\n",
       "    <tr>\n",
       "      <th>['Four of a Kind']</th>\n",
       "      <td>32164</td>\n",
       "      <td>1.23757%</td>\n",
       "    </tr>\n",
       "    <tr>\n",
       "      <th>['Flush']</th>\n",
       "      <td>12856</td>\n",
       "      <td>0.49466%</td>\n",
       "    </tr>\n",
       "    <tr>\n",
       "      <th>['Full House']</th>\n",
       "      <td>12672</td>\n",
       "      <td>0.48758%</td>\n",
       "    </tr>\n",
       "    <tr>\n",
       "      <th>['Straight Flush']</th>\n",
       "      <td>756</td>\n",
       "      <td>0.02909%</td>\n",
       "    </tr>\n",
       "    <tr>\n",
       "      <th>['Five of a Kind']</th>\n",
       "      <td>624</td>\n",
       "      <td>0.02401%</td>\n",
       "    </tr>\n",
       "    <tr>\n",
       "      <th>['Royal Flush with Duece']</th>\n",
       "      <td>156</td>\n",
       "      <td>0.00600%</td>\n",
       "    </tr>\n",
       "    <tr>\n",
       "      <th>['Four Deuces']</th>\n",
       "      <td>48</td>\n",
       "      <td>0.00185%</td>\n",
       "    </tr>\n",
       "    <tr>\n",
       "      <th>['Royal Flush']</th>\n",
       "      <td>4</td>\n",
       "      <td>0.00015%</td>\n",
       "    </tr>\n",
       "  </tbody>\n",
       "</table>\n",
       "</div>"
      ],
      "text/plain": [
       "                             Result Percentage\n",
       "['Loss']                    2120736  81.59941%\n",
       "['Three of a Kind']          367848  14.15366%\n",
       "['Straight']                  51096   1.96602%\n",
       "['Four of a Kind']            32164   1.23757%\n",
       "['Flush']                     12856   0.49466%\n",
       "['Full House']                12672   0.48758%\n",
       "['Straight Flush']              756   0.02909%\n",
       "['Five of a Kind']              624   0.02401%\n",
       "['Royal Flush with Duece']      156   0.00600%\n",
       "['Four Deuces']                  48   0.00185%\n",
       "['Royal Flush']                   4   0.00015%"
      ]
     },
     "execution_count": 13,
     "metadata": {},
     "output_type": "execute_result"
    }
   ],
   "source": [
    "# test_hand = [\"[2, 'Heart', 'Y']\",\"[10, 'Club', 'N']\",\"[5,'Diamond','N']\"]\n",
    "\n",
    "if len(string_hand) == 1:\n",
    "    test_odds_df = hands_df[hands_df.isin([string_hand[0]]).any(axis=1)]\n",
    "elif len(string_hand) == 2:\n",
    "    test_odds_df = hands_df[hands_df.isin([string_hand[0]]).any(axis=1) & hands_df.isin([string_hand[1]]).any(axis=1)]\n",
    "elif len(string_hand) == 3:\n",
    "    test_odds_df = hands_df[hands_df.isin([string_hand[0]]).any(axis=1) & hands_df.isin([string_hand[1]]).any(axis=1) & hands_df.isin([string_hand[2]]).any(axis=1)]\n",
    "elif len(string_hand) == 4:\n",
    "    test_odds_df = hands_df[hands_df.isin([string_hand[0]]).any(axis=1) & hands_df.isin([string_hand[1]]).any(axis=1) & hands_df.isin([string_hand[2]]).any(axis=1) & hands_df.isin([string_hand[3]]).any(axis=1)]\n",
    "elif len(string_hand) == 0:\n",
    "    test_odds_df = hands_df[~hands_df.isin([string_first_hand[0]]).any(axis=1) & ~hands_df.isin([string_first_hand[1]]).any(axis=1) & ~hands_df.isin([string_first_hand[2]]).any(axis=1) & ~hands_df.isin([string_first_hand[3]]).any(axis=1) & ~hands_df.isin([string_first_hand[4]]).any(axis=1)]\n",
    "    \n",
    "    \n",
    "# test_odds_df = hands_df[hands_df.isin([\"[2, 'Heart', 'Y']\"]).any(axis=1) & hands_df.isin([\"[5, 'Heart', 'N']\"]).any(axis=1) & hands_df.isin([\"[6, 'Club', 'N']\"]).any(axis=1)]\n",
    "\n",
    "test_odds_summary_df = pd.DataFrame(test_odds_df['Result'].value_counts())\n",
    "\n",
    "test = test_odds_summary_df['Result'].sum()\n",
    "\n",
    "temp_odds_list = test_odds_summary_df['Result'].tolist()\n",
    "\n",
    "new_list = []\n",
    "for item in temp_odds_list:\n",
    "    new_list.append(\"{:.5f}%\".format((item / test) * 100))\n",
    "\n",
    "test_odds_summary_df['Percentage'] = new_list\n",
    "test_odds_summary_df\n"
   ]
  },
  {
   "cell_type": "code",
   "execution_count": 10,
   "id": "1f46cccf",
   "metadata": {},
   "outputs": [
    {
     "data": {
      "text/html": [
       "<div>\n",
       "<style scoped>\n",
       "    .dataframe tbody tr th:only-of-type {\n",
       "        vertical-align: middle;\n",
       "    }\n",
       "\n",
       "    .dataframe tbody tr th {\n",
       "        vertical-align: top;\n",
       "    }\n",
       "\n",
       "    .dataframe thead th {\n",
       "        text-align: right;\n",
       "    }\n",
       "</style>\n",
       "<table border=\"1\" class=\"dataframe\">\n",
       "  <thead>\n",
       "    <tr style=\"text-align: right;\">\n",
       "      <th></th>\n",
       "      <th>0</th>\n",
       "      <th>1</th>\n",
       "      <th>2</th>\n",
       "      <th>3</th>\n",
       "      <th>4</th>\n",
       "      <th>Result</th>\n",
       "    </tr>\n",
       "  </thead>\n",
       "  <tbody>\n",
       "  </tbody>\n",
       "</table>\n",
       "</div>"
      ],
      "text/plain": [
       "Empty DataFrame\n",
       "Columns: [0, 1, 2, 3, 4, Result]\n",
       "Index: []"
      ]
     },
     "execution_count": 10,
     "metadata": {},
     "output_type": "execute_result"
    }
   ],
   "source": [
    "test_odds_df"
   ]
  },
  {
   "cell_type": "code",
   "execution_count": null,
   "id": "4ebf3621",
   "metadata": {},
   "outputs": [],
   "source": []
  },
  {
   "cell_type": "code",
   "execution_count": null,
   "id": "13285e1d",
   "metadata": {},
   "outputs": [],
   "source": []
  }
 ],
 "metadata": {
  "kernelspec": {
   "display_name": "Python 3 (ipykernel)",
   "language": "python",
   "name": "python3"
  },
  "language_info": {
   "codemirror_mode": {
    "name": "ipython",
    "version": 3
   },
   "file_extension": ".py",
   "mimetype": "text/x-python",
   "name": "python",
   "nbconvert_exporter": "python",
   "pygments_lexer": "ipython3",
   "version": "3.9.7"
  }
 },
 "nbformat": 4,
 "nbformat_minor": 5
}
