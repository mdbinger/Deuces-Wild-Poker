{
 "cells": [
  {
   "cell_type": "code",
   "execution_count": 5,
   "id": "19773884",
   "metadata": {},
   "outputs": [],
   "source": [
    "import random\n",
    "import collections\n",
    "from fractions import Fraction"
   ]
  },
  {
   "cell_type": "code",
   "execution_count": 22,
   "id": "7530c776",
   "metadata": {},
   "outputs": [
    {
     "data": {
      "text/plain": [
       "[4, 0, 2, 3, 1]"
      ]
     },
     "execution_count": 22,
     "metadata": {},
     "output_type": "execute_result"
    }
   ],
   "source": [
    "i = 0\n",
    "j = 5\n",
    "\n",
    "combos_options = [0,1,2,3,4]\n",
    "combos_list = []\n",
    "\n",
    "while len(combos_options) > 0:\n",
    "    while i < 5:\n",
    "        x = random.randrange(0, j)    \n",
    "        temp_item = combos_options.pop(x)\n",
    "        \n",
    "        if temp_item in combos_list\n",
    "        \n",
    "        combos_list.append(temp_item)\n",
    "        i = i + 1\n",
    "        j = j - 1\n",
    "    \n",
    "    \n",
    "combos_list   \n",
    "#     i = 1\n",
    "#     j = 4\n",
    "#     card_hand = []\n",
    "\n"
   ]
  },
  {
   "cell_type": "code",
   "execution_count": 15,
   "id": "b723eae1",
   "metadata": {},
   "outputs": [
    {
     "data": {
      "text/plain": [
       "[1, 2, 0, 4, 3]"
      ]
     },
     "execution_count": 15,
     "metadata": {},
     "output_type": "execute_result"
    }
   ],
   "source": [
    "k = 0 \n",
    "m = 0\n",
    "\n",
    "combos_list = []\n",
    "\n",
    "\n",
    "while k < 5:\n",
    "    if temp_item not in combos_list:\n",
    "        combos_list.append(k)\n",
    "    else:\n",
    "        k "
   ]
  },
  {
   "cell_type": "code",
   "execution_count": 24,
   "id": "6ac7cfa3",
   "metadata": {},
   "outputs": [
    {
     "data": {
      "text/plain": [
       "30"
      ]
     },
     "execution_count": 24,
     "metadata": {},
     "output_type": "execute_result"
    }
   ],
   "source": [
    "test = [['0'],['1'],['2'],['3'],['4'],['01'],['02'],['03'],['04'],['12'],['13'],['14'],['23'],['24'],['34'],['012'],['013'],['014'],['023'],['024'],['034'],['123'],['124'],['234'],['0123'],['0234'],['0134'],['0124'],['1234'],['01234']]\n",
    "len(test)\n",
    " "
   ]
  },
  {
   "cell_type": "code",
   "execution_count": null,
   "id": "cc353a94",
   "metadata": {},
   "outputs": [],
   "source": []
  }
 ],
 "metadata": {
  "kernelspec": {
   "display_name": "Python 3 (ipykernel)",
   "language": "python",
   "name": "python3"
  },
  "language_info": {
   "codemirror_mode": {
    "name": "ipython",
    "version": 3
   },
   "file_extension": ".py",
   "mimetype": "text/x-python",
   "name": "python",
   "nbconvert_exporter": "python",
   "pygments_lexer": "ipython3",
   "version": "3.9.7"
  }
 },
 "nbformat": 4,
 "nbformat_minor": 5
}
