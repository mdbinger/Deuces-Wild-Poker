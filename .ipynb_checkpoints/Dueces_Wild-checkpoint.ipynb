{
 "cells": [
  {
   "cell_type": "code",
   "execution_count": 4,
   "id": "8e0c65ab",
   "metadata": {},
   "outputs": [
    {
     "data": {
      "text/plain": [
       "[[2, 'Heart', 'Y'],\n",
       " [3, 'Heart', 'N'],\n",
       " [4, 'Heart', 'N'],\n",
       " [5, 'Heart', 'N'],\n",
       " [6, 'Heart', 'N'],\n",
       " [7, 'Heart', 'N'],\n",
       " [8, 'Heart', 'N'],\n",
       " [9, 'Heart', 'N'],\n",
       " [10, 'Heart', 'N'],\n",
       " [11, 'Heart', 'N'],\n",
       " [12, 'Heart', 'N'],\n",
       " [13, 'Heart', 'N'],\n",
       " [14, 'Heart', 'N'],\n",
       " [2, 'Diamond', 'Y'],\n",
       " [3, 'Diamond', 'N'],\n",
       " [4, 'Diamond', 'N'],\n",
       " [5, 'Diamond', 'N'],\n",
       " [6, 'Diamond', 'N'],\n",
       " [7, 'Diamond', 'N'],\n",
       " [8, 'Diamond', 'N'],\n",
       " [9, 'Diamond', 'N'],\n",
       " [10, 'Diamond', 'N'],\n",
       " [11, 'Diamond', 'N'],\n",
       " [12, 'Diamond', 'N'],\n",
       " [13, 'Diamond', 'N'],\n",
       " [14, 'Diamond', 'N'],\n",
       " [2, 'Spade', 'Y'],\n",
       " [3, 'Spade', 'N'],\n",
       " [4, 'Spade', 'N'],\n",
       " [5, 'Spade', 'N'],\n",
       " [6, 'Spade', 'N'],\n",
       " [7, 'Spade', 'N'],\n",
       " [8, 'Spade', 'N'],\n",
       " [9, 'Spade', 'N'],\n",
       " [10, 'Spade', 'N'],\n",
       " [11, 'Spade', 'N'],\n",
       " [12, 'Spade', 'N'],\n",
       " [13, 'Spade', 'N'],\n",
       " [14, 'Spade', 'N'],\n",
       " [2, 'Club', 'Y'],\n",
       " [3, 'Club', 'N'],\n",
       " [4, 'Club', 'N'],\n",
       " [5, 'Club', 'N'],\n",
       " [6, 'Club', 'N'],\n",
       " [7, 'Club', 'N'],\n",
       " [8, 'Club', 'N'],\n",
       " [9, 'Club', 'N'],\n",
       " [10, 'Club', 'N'],\n",
       " [11, 'Club', 'N'],\n",
       " [12, 'Club', 'N'],\n",
       " [13, 'Club', 'N'],\n",
       " [14, 'Club', 'N']]"
      ]
     },
     "execution_count": 4,
     "metadata": {},
     "output_type": "execute_result"
    }
   ],
   "source": [
    "card_deck = []\n",
    "\n",
    "i = 2\n",
    "j = 1\n",
    "while i < 15 and j < 5:\n",
    "    card = []\n",
    "    card.append(i)\n",
    "    \n",
    "    if j == 1:\n",
    "        card.append('Heart')\n",
    "    elif j == 2:\n",
    "        card.append('Diamond')\n",
    "    elif j == 3:\n",
    "        card.append('Spade')\n",
    "    elif j == 4:\n",
    "        card.append('Club')\n",
    "    \n",
    "    if i == 2:\n",
    "        card.append('Y')\n",
    "    else:\n",
    "        card.append('N')\n",
    "        \n",
    "    if i == 14:\n",
    "        j = j + 1\n",
    "        i = 1\n",
    "    \n",
    "    card_deck.append(card)\n",
    "    i = i + 1\n",
    "    \n",
    "card_deck"
   ]
  },
  {
   "cell_type": "code",
   "execution_count": 6,
   "id": "103235d1",
   "metadata": {},
   "outputs": [
    {
     "data": {
      "text/plain": [
       "[14, 'Club', 'N']"
      ]
     },
     "execution_count": 6,
     "metadata": {},
     "output_type": "execute_result"
    }
   ],
   "source": [
    "card_deck[51]"
   ]
  },
  {
   "cell_type": "code",
   "execution_count": null,
   "id": "42e0d2b2",
   "metadata": {},
   "outputs": [],
   "source": []
  }
 ],
 "metadata": {
  "kernelspec": {
   "display_name": "Python 3 (ipykernel)",
   "language": "python",
   "name": "python3"
  },
  "language_info": {
   "codemirror_mode": {
    "name": "ipython",
    "version": 3
   },
   "file_extension": ".py",
   "mimetype": "text/x-python",
   "name": "python",
   "nbconvert_exporter": "python",
   "pygments_lexer": "ipython3",
   "version": "3.9.7"
  }
 },
 "nbformat": 4,
 "nbformat_minor": 5
}
