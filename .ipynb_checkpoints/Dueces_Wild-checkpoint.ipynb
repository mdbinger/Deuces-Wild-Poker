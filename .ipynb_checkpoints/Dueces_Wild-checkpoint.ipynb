{
 "cells": [
  {
   "cell_type": "code",
   "execution_count": 37,
   "id": "be91c23a",
   "metadata": {},
   "outputs": [],
   "source": [
    "import random\n",
    "import collections\n",
    "from fractions import Fraction"
   ]
  },
  {
   "cell_type": "code",
   "execution_count": 2,
   "id": "8e0c65ab",
   "metadata": {},
   "outputs": [
    {
     "data": {
      "text/plain": [
       "[[2, 'Heart', 'Y'],\n",
       " [3, 'Heart', 'N'],\n",
       " [4, 'Heart', 'N'],\n",
       " [5, 'Heart', 'N'],\n",
       " [6, 'Heart', 'N'],\n",
       " [7, 'Heart', 'N'],\n",
       " [8, 'Heart', 'N'],\n",
       " [9, 'Heart', 'N'],\n",
       " [10, 'Heart', 'N'],\n",
       " [11, 'Heart', 'N'],\n",
       " [12, 'Heart', 'N'],\n",
       " [13, 'Heart', 'N'],\n",
       " [14, 'Heart', 'N'],\n",
       " [2, 'Diamond', 'Y'],\n",
       " [3, 'Diamond', 'N'],\n",
       " [4, 'Diamond', 'N'],\n",
       " [5, 'Diamond', 'N'],\n",
       " [6, 'Diamond', 'N'],\n",
       " [7, 'Diamond', 'N'],\n",
       " [8, 'Diamond', 'N'],\n",
       " [9, 'Diamond', 'N'],\n",
       " [10, 'Diamond', 'N'],\n",
       " [11, 'Diamond', 'N'],\n",
       " [12, 'Diamond', 'N'],\n",
       " [13, 'Diamond', 'N'],\n",
       " [14, 'Diamond', 'N'],\n",
       " [2, 'Spade', 'Y'],\n",
       " [3, 'Spade', 'N'],\n",
       " [4, 'Spade', 'N'],\n",
       " [5, 'Spade', 'N'],\n",
       " [6, 'Spade', 'N'],\n",
       " [7, 'Spade', 'N'],\n",
       " [8, 'Spade', 'N'],\n",
       " [9, 'Spade', 'N'],\n",
       " [10, 'Spade', 'N'],\n",
       " [11, 'Spade', 'N'],\n",
       " [12, 'Spade', 'N'],\n",
       " [13, 'Spade', 'N'],\n",
       " [14, 'Spade', 'N'],\n",
       " [2, 'Club', 'Y'],\n",
       " [3, 'Club', 'N'],\n",
       " [4, 'Club', 'N'],\n",
       " [5, 'Club', 'N'],\n",
       " [6, 'Club', 'N'],\n",
       " [7, 'Club', 'N'],\n",
       " [8, 'Club', 'N'],\n",
       " [9, 'Club', 'N'],\n",
       " [10, 'Club', 'N'],\n",
       " [11, 'Club', 'N'],\n",
       " [12, 'Club', 'N'],\n",
       " [13, 'Club', 'N'],\n",
       " [14, 'Club', 'N']]"
      ]
     },
     "execution_count": 2,
     "metadata": {},
     "output_type": "execute_result"
    }
   ],
   "source": [
    "card_deck = []\n",
    "\n",
    "i = 2\n",
    "j = 1\n",
    "while i < 15 and j < 5:\n",
    "    card = []\n",
    "    card.append(i)\n",
    "    \n",
    "    if j == 1:\n",
    "        card.append('Heart')\n",
    "    elif j == 2:\n",
    "        card.append('Diamond')\n",
    "    elif j == 3:\n",
    "        card.append('Spade')\n",
    "    elif j == 4:\n",
    "        card.append('Club')\n",
    "    \n",
    "    if i == 2:\n",
    "        card.append('Y')\n",
    "    else:\n",
    "        card.append('N')\n",
    "        \n",
    "    if i == 14:\n",
    "        j = j + 1\n",
    "        i = 1\n",
    "    \n",
    "    card_deck.append(card)\n",
    "    i = i + 1\n",
    "    \n",
    "card_deck"
   ]
  },
  {
   "cell_type": "code",
   "execution_count": 3,
   "id": "103235d1",
   "metadata": {},
   "outputs": [
    {
     "data": {
      "text/plain": [
       "[14, 'Club', 'N']"
      ]
     },
     "execution_count": 3,
     "metadata": {},
     "output_type": "execute_result"
    }
   ],
   "source": [
    "card_deck[51]"
   ]
  },
  {
   "cell_type": "code",
   "execution_count": 4,
   "id": "42e0d2b2",
   "metadata": {},
   "outputs": [
    {
     "data": {
      "text/plain": [
       "[[3, 'Heart', 'N'],\n",
       " [3, 'Club', 'N'],\n",
       " [11, 'Club', 'N'],\n",
       " [8, 'Club', 'N'],\n",
       " [10, 'Heart', 'N']]"
      ]
     },
     "execution_count": 4,
     "metadata": {},
     "output_type": "execute_result"
    }
   ],
   "source": [
    "i = 1\n",
    "j = 52\n",
    "card_hand = []\n",
    "\n",
    "while i < 6:\n",
    "    x = random.randrange(0, j)    \n",
    "    dealt_card = card_deck.pop(x)\n",
    "    card_hand.append(dealt_card)\n",
    "    i = i + 1\n",
    "    j = j - 1\n",
    "    \n",
    "first_dealt_hand = card_hand\n",
    "first_dealt_hand"
   ]
  },
  {
   "cell_type": "code",
   "execution_count": 5,
   "id": "9606850a",
   "metadata": {},
   "outputs": [
    {
     "name": "stdout",
     "output_type": "stream",
     "text": [
      "Card Position: 0 [3, 'Heart', 'N']\n",
      "Card Position: 1 [3, 'Club', 'N']\n",
      "Card Position: 2 [11, 'Club', 'N']\n",
      "Card Position: 3 [8, 'Club', 'N']\n",
      "Card Position: 4 [10, 'Heart', 'N']\n",
      "Select Cards to Discard by Position Number:234\n",
      "Discarded Cards: [[11, 'Club', 'N'], [8, 'Club', 'N'], [10, 'Heart', 'N']]\n",
      "[[3, 'Heart', 'N'], [3, 'Club', 'N'], [6, 'Spade', 'N'], [3, 'Diamond', 'N'], [11, 'Spade', 'N']]\n"
     ]
    }
   ],
   "source": [
    "card_position_counter = 0\n",
    "for card in first_dealt_hand:\n",
    "    print(f'Card Position: {card_position_counter} {card}')\n",
    "    card_position_counter = card_position_counter + 1\n",
    "\n",
    "discarded_cards = input(\"Select Cards to Discard by Position Number:\")\n",
    "\n",
    "# string = \"geeks\"\n",
    "\n",
    "discarded_card_position_list = [*discarded_cards]\n",
    "discarded_card_position_list = [i for i in discarded_card_position_list if i.isnumeric()]\n",
    "discarded_card_position_list\n",
    "\n",
    "k = 0\n",
    "discarded_cards = []\n",
    "for item in discarded_card_position_list:\n",
    "    num_item = int(item)\n",
    "    card_position = num_item - k\n",
    "    discard = card_hand.pop(card_position)\n",
    "    discarded_cards.append(discard)\n",
    "    k = k + 1\n",
    "# print(first_dealt_hand)\n",
    "# print(discarded_cards)\n",
    "\n",
    "i = i - len(discarded_card_position_list)\n",
    "# j = 52\n",
    "final_card_hand = card_hand\n",
    "\n",
    "# for item in discarded_cards:\n",
    "#     first_dealt_hand.append(item)\n",
    "\n",
    "# print(first_dealt_hand)\n",
    "# print(discarded_cards)\n",
    "\n",
    "while i < 6:\n",
    "    x = random.randrange(0, j)    \n",
    "    dealt_card = card_deck.pop(x)\n",
    "    final_card_hand.append(dealt_card)\n",
    "    i = i + 1\n",
    "    j = j - 1\n",
    "    \n",
    "print(f'Discarded Cards: {discarded_cards}')\n",
    "print(final_card_hand)"
   ]
  },
  {
   "cell_type": "code",
   "execution_count": 6,
   "id": "072ec750",
   "metadata": {},
   "outputs": [],
   "source": [
    "# final_card_hand = [[2, 'Club', 'Y'],\n",
    "#  [2, 'Spade', 'Y'],\n",
    "#  [10, 'Heart', 'N'],\n",
    "#  [13, 'Heart', 'N'],\n",
    "#  [14, 'Heart', 'N']]"
   ]
  },
  {
   "cell_type": "code",
   "execution_count": 7,
   "id": "4f83c630",
   "metadata": {},
   "outputs": [
    {
     "data": {
      "text/plain": [
       "[[3, 'Heart', 'N'],\n",
       " [3, 'Club', 'N'],\n",
       " [6, 'Spade', 'N'],\n",
       " [3, 'Diamond', 'N'],\n",
       " [11, 'Spade', 'N']]"
      ]
     },
     "execution_count": 7,
     "metadata": {},
     "output_type": "execute_result"
    }
   ],
   "source": [
    "first_dealt_hand "
   ]
  },
  {
   "cell_type": "code",
   "execution_count": 8,
   "id": "239199bb",
   "metadata": {},
   "outputs": [
    {
     "name": "stdout",
     "output_type": "stream",
     "text": [
      "[[3, 'Heart', 'N'], [3, 'Club', 'N'], [6, 'Spade', 'N'], [3, 'Diamond', 'N'], [11, 'Spade', 'N']]\n",
      "[]\n",
      "[3, 3, 3, 6, 11]\n",
      "[3, 3, 3, 6, 11]\n",
      "['Club', 'Diamond', 'Heart', 'Spade', 'Spade']\n",
      "['Heart', 'Club', 'Spade', 'Diamond', 'Spade']\n",
      "['Three of a Kind']\n"
     ]
    }
   ],
   "source": [
    "# Winning hands - Odds\n",
    "print(final_card_hand)\n",
    "winning_hand_indicator = []\n",
    "\n",
    "# Get card numbers and sort them to make it easier to identify winning patters\n",
    "wildcard_position_indicator = 0\n",
    "wildcard_positions = []\n",
    "\n",
    "for third in final_card_hand:\n",
    "    \n",
    "    if third[2] == 'Y':\n",
    "        wildcard_positions.append(wildcard_position_indicator)\n",
    "        \n",
    "    wildcard_position_indicator = wildcard_position_indicator + 1\n",
    "\n",
    "wildcard_counter = len(wildcard_positions)\n",
    "print(wildcard_positions)\n",
    "\n",
    "\n",
    "# Get card numbers and sort them to make it easier to identify winning patters\n",
    "final_hand_numbers = []\n",
    "final_hand_numbers_no_wildcards = []\n",
    "\n",
    "for first in final_card_hand:\n",
    "    final_hand_numbers.append(first[0])\n",
    "    if first[0] == 2:\n",
    "        continue\n",
    "    else:\n",
    "        final_hand_numbers_no_wildcards.append(first[0])\n",
    "\n",
    "# i = 0\n",
    "# if len(wildcard_positions) > 0:\n",
    "#     for i in range(len(wildcard_positions)):\n",
    "#         final_hand_numbers_no_wildcards.pop(wildcard_positions[i])\n",
    "#         i = i + 1\n",
    "        \n",
    "final_hand_numbers.sort()\n",
    "final_hand_numbers_no_wildcards.sort()\n",
    "print(final_hand_numbers)\n",
    "print(final_hand_numbers_no_wildcards)\n",
    "\n",
    "\n",
    "# Get card suits and sort them to make it easier to identify winning patters\n",
    "final_hand_suits = []\n",
    "final_hand_suits_no_wildcards = []\n",
    "\n",
    "for second in final_card_hand:\n",
    "    final_hand_suits.append(second[1])\n",
    "\n",
    "    if second[0] == 2:\n",
    "        continue\n",
    "    else:\n",
    "        final_hand_suits_no_wildcards.append(second[1])\n",
    "\n",
    "    \n",
    "#     final_hand_suits_no_wildcards.append(second[1])\n",
    "\n",
    "# if len(wildcard_positions) > 0:\n",
    "#     for i in range(len(wildcard_positions)):\n",
    "#         final_hand_suits_no_wildcards.pop(wildcard_positions[i])\n",
    "\n",
    "    \n",
    "final_hand_suits.sort()\n",
    "print(final_hand_suits)\n",
    "print(final_hand_suits_no_wildcards)\n",
    "\n",
    " \n",
    "\n",
    "# Four Dueces - 200\n",
    "\n",
    "if wildcard_counter == 4:\n",
    "    winning_hand_indicator.append('Four Deuces')\n",
    "    \n",
    "\n",
    "\n",
    "\n",
    "# Five of a Kind - 10\n",
    "\n",
    "card_number_count = collections.Counter(final_hand_numbers_no_wildcards)\n",
    "if card_number_count[card_number_count.most_common(1)[0][0]] + len(wildcard_positions) == 5:\n",
    "    winning_hand_indicator.append('Five of a Kind')\n",
    "\n",
    "\n",
    "# Four of a Kind - 4\n",
    "\n",
    "card_number_count = collections.Counter(final_hand_numbers_no_wildcards)\n",
    "if card_number_count[card_number_count.most_common(1)[0][0]] + len(wildcard_positions) == 4:\n",
    "    winning_hand_indicator.append('Four of a Kind')\n",
    "\n",
    "\n",
    "# Full House - 3\n",
    "\n",
    "no_wildcard_numbers_set = set(final_hand_numbers_no_wildcards)\n",
    "\n",
    "card_number_count = collections.Counter(final_hand_numbers_no_wildcards)\n",
    "if card_number_count[card_number_count.most_common(1)[0][0]] + len(wildcard_positions) == 3 and len(no_wildcard_numbers_set) == 2:\n",
    "    winning_hand_indicator.append('Full House')\n",
    "\n",
    "\n",
    "# Flush - 2\n",
    "suits_set = set(final_hand_suits)\n",
    "no_wildcard_suits_set = set(final_hand_suits_no_wildcards)\n",
    "\n",
    "if len(suits_set) == 1:\n",
    "    winning_hand_indicator.append('Flush')\n",
    "    \n",
    "elif len(wildcard_positions) > 0:\n",
    "    unique_suits_frequency = []\n",
    "    for item in suits_set:\n",
    "        unique_suits_frequency.append(final_hand_suits.count(item))\n",
    "        if final_hand_suits.count(item) == len(final_hand_suits_no_wildcards) and len(no_wildcard_suits_set) == 1:\n",
    "            winning_hand_indicator.append('Flush')\n",
    "    print(unique_suits_frequency)\n",
    "\n",
    "\n",
    "# Straight - 2\n",
    "i = 0\n",
    "j = 1\n",
    "temp_wildcard_counter = wildcard_counter\n",
    "for i in range(len(final_hand_numbers_no_wildcards)):\n",
    "    if wildcard_counter == 4:\n",
    "        break\n",
    "    if final_hand_numbers_no_wildcards[j] - final_hand_numbers_no_wildcards[i] == 1:\n",
    "        if j == (len(final_hand_numbers_no_wildcards) - 1):\n",
    "            winning_hand_indicator.append('Straight')\n",
    "            break\n",
    "        else:\n",
    "            i = i + 1\n",
    "            j = j + 1\n",
    "            continue\n",
    "    elif final_hand_numbers_no_wildcards[j] - final_hand_numbers_no_wildcards[i] == 2 and temp_wildcard_counter == 1:\n",
    "        if j == (len(final_hand_numbers_no_wildcards) - 1):\n",
    "            winning_hand_indicator.append('Straight')\n",
    "            break\n",
    "        else:\n",
    "            i = i + 1\n",
    "            j = j + 1\n",
    "            temp_wildcard_counter = temp_wildcard_counter - 1\n",
    "            continue\n",
    "    elif final_hand_numbers_no_wildcards[j] - final_hand_numbers_no_wildcards[i] == 3 and temp_wildcard_counter == 2:\n",
    "        if j == (len(final_hand_numbers_no_wildcards) - 1):\n",
    "            winning_hand_indicator.append('Straight')\n",
    "            break\n",
    "        else:\n",
    "            i = i + 1\n",
    "            j = j + 1\n",
    "            temp_wildcard_counter = temp_wildcard_counter - 2\n",
    "            continue\n",
    "    else:\n",
    "        i = i + 1\n",
    "        j = j + 1\n",
    "        break\n",
    "\n",
    "        \n",
    "# Three of a Kind - 1\n",
    "\n",
    "card_number_count = collections.Counter(final_hand_numbers_no_wildcards)\n",
    "if card_number_count[card_number_count.most_common(1)[0][0]] + len(wildcard_positions) == 3:\n",
    "    winning_hand_indicator.append('Three of a Kind')\n",
    "\n",
    "\n",
    "# Straight Flush - 8\n",
    "\n",
    "if 'Flush' in winning_hand_indicator and 'Straight' in winning_hand_indicator:\n",
    "    winning_hand_indicator.remove('Flush')\n",
    "    winning_hand_indicator.remove('Straight')\n",
    "    winning_hand_indicator.append('Straight Flush')\n",
    "\n",
    "    \n",
    "# Royal Flush with No Duece - 300\n",
    "\n",
    "if 'Straight Flush' in winning_hand_indicator:\n",
    "    if 14 in final_hand_numbers_no_wildcards and 10 in final_hand_numbers_no_wildcards and wildcard_counter == 0:\n",
    "        winning_hand_indicator.remove('Straight Flush')\n",
    "        winning_hand_indicator.append('Royal Flush')\n",
    "        \n",
    "\n",
    "# Royal Flush with Duece - 20\n",
    "\n",
    "if 'Straight Flush' in winning_hand_indicator:\n",
    "    royal_flush_numbers = [10,11,12,13,14]\n",
    "    royal_flush_counter = 0\n",
    "    for number in final_hand_numbers_no_wildcards:\n",
    "        if number in royal_flush_numbers:\n",
    "            royal_flush_counter = royal_flush_counter + 1\n",
    "            continue\n",
    "        else:\n",
    "            break\n",
    "    if royal_flush_counter == len(final_hand_numbers_no_wildcards):\n",
    "        winning_hand_indicator.remove('Straight Flush')\n",
    "        winning_hand_indicator.append('Royal Flush with Duece')\n",
    "\n",
    "        \n",
    "\n",
    "# Final Decision\n",
    "if len(winning_hand_indicator) == 0:\n",
    "    winning_hand_indicator.append('Loss')\n",
    "\n",
    "print(winning_hand_indicator)\n"
   ]
  },
  {
   "cell_type": "code",
   "execution_count": null,
   "id": "ff98110d",
   "metadata": {},
   "outputs": [],
   "source": []
  },
  {
   "cell_type": "code",
   "execution_count": 9,
   "id": "849d38e2",
   "metadata": {},
   "outputs": [],
   "source": [
    "\n",
    "# How many cards are being drawn is a factor\n",
    "# cards_to_draw\n",
    "\n",
    "# How many cards are left in the deck is a factor\n",
    "# len(card_deck)\n",
    "\n",
    "# Which cards are left in the deck is a factor\n",
    "# card_deck\n",
    "\n",
    "# Build a function to see how many of each number are left in the deck\n",
    "card_numbers_left = []\n",
    "unique_card_numbers_left = []\n",
    "for card in card_deck:\n",
    "    card_numbers_left.append(card[0])\n",
    "    if card[0] not in unique_card_numbers_left:\n",
    "        unique_card_numbers_left.append(card[0])\n",
    "\n",
    "numbers_count = []\n",
    "for number in unique_card_numbers_left:\n",
    "    numbers_count.append([number,card_numbers_left.count(number)])\n",
    "    \n",
    "    \n",
    "# Build a function to see how many of each suit are left in the deck\n",
    "card_suits = ['Heart','Diamond','Spade','Club']\n",
    "card_suits_left = []\n",
    "for card in card_deck:\n",
    "    card_suits_left.append(card[1])\n",
    "\n",
    "suits_count = []\n",
    "for suit in card_suits:\n",
    "    suits_count.append([suit,card_suits_left.count(suit)])\n",
    "\n",
    "\n",
    "# Build a function to see how many wildcards are left in the deck\n",
    "wildcards_left = ['Y']\n",
    "wildcard_counter = 0\n",
    "for card in card_deck:\n",
    "    if card[2] == 'Y':\n",
    "        wildcard_counter = wildcard_counter + 1\n",
    "\n",
    "wildcards_left.append(wildcard_counter)\n",
    "\n",
    "total_cards_left = len(card_deck)\n",
    "\n",
    "# Odds of drawing a suit \n",
    "def suit_odds(suit):\n",
    "    for item in suits_count:\n",
    "        if item[0] == suit:\n",
    "            numerator = item[1]\n",
    "    return (numerator / total_cards_left)\n",
    "\n",
    "\n",
    "# Odds of drawing a number \n",
    "def number_odds(number):\n",
    "    for item in numbers_count:\n",
    "        if item[0] == number:\n",
    "            numerator = item[1]\n",
    "    return (numerator / total_cards_left)\n"
   ]
  },
  {
   "cell_type": "code",
   "execution_count": 10,
   "id": "22bf1353",
   "metadata": {},
   "outputs": [
    {
     "name": "stdout",
     "output_type": "stream",
     "text": [
      "Odds of drawing Heart are 25.000000%\n",
      "Odds of drawing Diamond are 27.272727%\n",
      "Odds of drawing Spade are 25.000000%\n",
      "Odds of drawing Club are 22.727273%\n"
     ]
    }
   ],
   "source": [
    "for item in card_suits:\n",
    "    statement = \"Odds of drawing \" + str(item) + \" are {:%}\"\n",
    "    print(statement.format(suit_odds(item)))"
   ]
  },
  {
   "cell_type": "code",
   "execution_count": 11,
   "id": "676f081c",
   "metadata": {},
   "outputs": [
    {
     "name": "stdout",
     "output_type": "stream",
     "text": [
      "Odds of drawing 2 are 9.090909%\n",
      "Odds of drawing 3 are 2.272727%\n",
      "Odds of drawing 4 are 9.090909%\n",
      "Odds of drawing 5 are 9.090909%\n",
      "Odds of drawing 6 are 6.818182%\n",
      "Odds of drawing 7 are 9.090909%\n",
      "Odds of drawing 8 are 6.818182%\n",
      "Odds of drawing 9 are 9.090909%\n",
      "Odds of drawing 10 are 6.818182%\n",
      "Odds of drawing 11 are 4.545455%\n",
      "Odds of drawing 12 are 9.090909%\n",
      "Odds of drawing 13 are 9.090909%\n",
      "Odds of drawing 14 are 9.090909%\n"
     ]
    }
   ],
   "source": [
    "all_card_numbers = [2,3,4,5,6,7,8,9,10,11,12,13,14]\n",
    "for item in all_card_numbers:\n",
    "    statement = \"Odds of drawing \" + str(item) + \" are {:%}\"\n",
    "    print(statement.format(number_odds(item)))"
   ]
  },
  {
   "cell_type": "code",
   "execution_count": 12,
   "id": "9c04f751",
   "metadata": {},
   "outputs": [
    {
     "data": {
      "text/plain": [
       "['Y', 4]"
      ]
     },
     "execution_count": 12,
     "metadata": {},
     "output_type": "execute_result"
    }
   ],
   "source": [
    "wildcards_left"
   ]
  },
  {
   "cell_type": "code",
   "execution_count": 13,
   "id": "6df865ed",
   "metadata": {},
   "outputs": [
    {
     "name": "stdout",
     "output_type": "stream",
     "text": [
      "Odds of drawing 3 are 2.272727%\n",
      "Odds of drawing 3 are 2.272727%\n",
      "Odds of drawing 6 are 6.818182%\n",
      "Odds of drawing 3 are 2.272727%\n",
      "Odds of drawing 11 are 4.545455%\n"
     ]
    }
   ],
   "source": [
    "# Odds of drawing a number \n",
    "for test in final_card_hand:\n",
    "    number_now = test[0]\n",
    "    statement = \"Odds of drawing \" + str(number_now) + \" are {:%}\"\n",
    "    print(statement.format(number_odds(number_now)))"
   ]
  },
  {
   "cell_type": "code",
   "execution_count": 58,
   "id": "e4887a7b",
   "metadata": {},
   "outputs": [
    {
     "data": {
      "text/plain": [
       "[[3, 3], [6, 1], [11, 1]]"
      ]
     },
     "execution_count": 58,
     "metadata": {},
     "output_type": "execute_result"
    }
   ],
   "source": [
    "# Find count of numbers in hand\n",
    "\n",
    "unique_hand_numbers = []\n",
    "for number in final_hand_numbers:\n",
    "#     card_numbers_left.append(card[0])\n",
    "    if number not in unique_hand_numbers:\n",
    "        unique_hand_numbers.append(number)\n",
    "\n",
    "hand_numbers_count = []\n",
    "for number in unique_hand_numbers:\n",
    "    hand_numbers_count.append([number,final_hand_numbers.count(number)])\n",
    "\n",
    "hand_numbers_count"
   ]
  },
  {
   "cell_type": "code",
   "execution_count": 52,
   "id": "521eb83c",
   "metadata": {},
   "outputs": [],
   "source": [
    "#### TO DO ####\n",
    "# Need to make this function below dynamic, so that it can read how many of each number are already in the hand\n",
    "# and count those cards as part of the odds for getting three of a kind\n",
    "# Meaning, if a hand already has 2 of a kind, it only is searching for one more of that number\n",
    "# ALSO needs to factor in wildcards\n",
    "\n",
    "# Odds of drawing three of a number \n",
    "def multiple_number_odds(number):\n",
    "    print(number)\n",
    "    for item in numbers_count:\n",
    "        if item[0] == number:\n",
    "            numerator = item[1]\n",
    "        else:\n",
    "            continue\n",
    "        print(f'The numerator is {numerator}')\n",
    "        odds = ((numerator / total_cards_left) * ((numerator - 1) / (total_cards_left - 1)))\n",
    "    return odds\n"
   ]
  },
  {
   "cell_type": "code",
   "execution_count": 54,
   "id": "35f38d85",
   "metadata": {},
   "outputs": [
    {
     "name": "stdout",
     "output_type": "stream",
     "text": [
      "3\n",
      "The numerator is 1\n",
      "Odds of drawing 3 are 0.000000%\n",
      "3\n",
      "The numerator is 1\n",
      "Odds of drawing 3 are 0.000000%\n",
      "6\n",
      "The numerator is 3\n",
      "Odds of drawing 6 are 0.317125%\n",
      "3\n",
      "The numerator is 1\n",
      "Odds of drawing 3 are 0.000000%\n",
      "11\n",
      "The numerator is 2\n",
      "Odds of drawing 11 are 0.105708%\n"
     ]
    }
   ],
   "source": [
    "for test in final_card_hand:\n",
    "    number_now = test[0]\n",
    "    statement = \"Odds of drawing \" + str(number_now) + \" are {:%}\"\n",
    "    print(statement.format(multiple_number_odds(number_now)))\n",
    "#     print(Fraction(multiple_number_odds(number_now)))"
   ]
  },
  {
   "cell_type": "code",
   "execution_count": 45,
   "id": "9a15530c",
   "metadata": {},
   "outputs": [
    {
     "ename": "NameError",
     "evalue": "name 'numerator' is not defined",
     "output_type": "error",
     "traceback": [
      "\u001b[0;31m---------------------------------------------------------------------------\u001b[0m",
      "\u001b[0;31mNameError\u001b[0m                                 Traceback (most recent call last)",
      "\u001b[0;32m/var/folders/2d/w0_y9zt547v2y0371_wclbcm0000gn/T/ipykernel_15217/2850073027.py\u001b[0m in \u001b[0;36m<module>\u001b[0;34m\u001b[0m\n\u001b[0;32m----> 1\u001b[0;31m \u001b[0mnumerator\u001b[0m\u001b[0;34m\u001b[0m\u001b[0;34m\u001b[0m\u001b[0m\n\u001b[0m",
      "\u001b[0;31mNameError\u001b[0m: name 'numerator' is not defined"
     ]
    }
   ],
   "source": [
    "numerator"
   ]
  },
  {
   "cell_type": "code",
   "execution_count": 51,
   "id": "22f298f2",
   "metadata": {},
   "outputs": [
    {
     "data": {
      "text/plain": [
       "[[3, 'Heart', 'N'],\n",
       " [3, 'Club', 'N'],\n",
       " [6, 'Spade', 'N'],\n",
       " [3, 'Diamond', 'N'],\n",
       " [11, 'Spade', 'N']]"
      ]
     },
     "execution_count": 51,
     "metadata": {},
     "output_type": "execute_result"
    }
   ],
   "source": [
    "final_card_hand"
   ]
  },
  {
   "cell_type": "code",
   "execution_count": 56,
   "id": "66cb3633",
   "metadata": {},
   "outputs": [
    {
     "data": {
      "text/plain": [
       "[3, 3, 3, 6, 11]"
      ]
     },
     "execution_count": 56,
     "metadata": {},
     "output_type": "execute_result"
    }
   ],
   "source": [
    "final_hand_numbers"
   ]
  },
  {
   "cell_type": "code",
   "execution_count": null,
   "id": "a8c61316",
   "metadata": {},
   "outputs": [],
   "source": []
  },
  {
   "cell_type": "code",
   "execution_count": null,
   "id": "004ef928",
   "metadata": {},
   "outputs": [],
   "source": []
  },
  {
   "cell_type": "code",
   "execution_count": null,
   "id": "5f7f282f",
   "metadata": {},
   "outputs": [],
   "source": []
  },
  {
   "cell_type": "code",
   "execution_count": null,
   "id": "5f8723f0",
   "metadata": {},
   "outputs": [],
   "source": []
  }
 ],
 "metadata": {
  "kernelspec": {
   "display_name": "Python 3 (ipykernel)",
   "language": "python",
   "name": "python3"
  },
  "language_info": {
   "codemirror_mode": {
    "name": "ipython",
    "version": 3
   },
   "file_extension": ".py",
   "mimetype": "text/x-python",
   "name": "python",
   "nbconvert_exporter": "python",
   "pygments_lexer": "ipython3",
   "version": "3.9.7"
  }
 },
 "nbformat": 4,
 "nbformat_minor": 5
}
