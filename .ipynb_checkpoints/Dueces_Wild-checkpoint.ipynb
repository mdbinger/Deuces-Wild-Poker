{
 "cells": [
  {
   "cell_type": "code",
   "execution_count": 1,
   "id": "be91c23a",
   "metadata": {},
   "outputs": [],
   "source": [
    "import random\n",
    "import collections\n",
    "\n"
   ]
  },
  {
   "cell_type": "code",
   "execution_count": 2,
   "id": "8e0c65ab",
   "metadata": {},
   "outputs": [
    {
     "data": {
      "text/plain": [
       "[[2, 'Heart', 'Y'],\n",
       " [3, 'Heart', 'N'],\n",
       " [4, 'Heart', 'N'],\n",
       " [5, 'Heart', 'N'],\n",
       " [6, 'Heart', 'N'],\n",
       " [7, 'Heart', 'N'],\n",
       " [8, 'Heart', 'N'],\n",
       " [9, 'Heart', 'N'],\n",
       " [10, 'Heart', 'N'],\n",
       " [11, 'Heart', 'N'],\n",
       " [12, 'Heart', 'N'],\n",
       " [13, 'Heart', 'N'],\n",
       " [14, 'Heart', 'N'],\n",
       " [2, 'Diamond', 'Y'],\n",
       " [3, 'Diamond', 'N'],\n",
       " [4, 'Diamond', 'N'],\n",
       " [5, 'Diamond', 'N'],\n",
       " [6, 'Diamond', 'N'],\n",
       " [7, 'Diamond', 'N'],\n",
       " [8, 'Diamond', 'N'],\n",
       " [9, 'Diamond', 'N'],\n",
       " [10, 'Diamond', 'N'],\n",
       " [11, 'Diamond', 'N'],\n",
       " [12, 'Diamond', 'N'],\n",
       " [13, 'Diamond', 'N'],\n",
       " [14, 'Diamond', 'N'],\n",
       " [2, 'Spade', 'Y'],\n",
       " [3, 'Spade', 'N'],\n",
       " [4, 'Spade', 'N'],\n",
       " [5, 'Spade', 'N'],\n",
       " [6, 'Spade', 'N'],\n",
       " [7, 'Spade', 'N'],\n",
       " [8, 'Spade', 'N'],\n",
       " [9, 'Spade', 'N'],\n",
       " [10, 'Spade', 'N'],\n",
       " [11, 'Spade', 'N'],\n",
       " [12, 'Spade', 'N'],\n",
       " [13, 'Spade', 'N'],\n",
       " [14, 'Spade', 'N'],\n",
       " [2, 'Club', 'Y'],\n",
       " [3, 'Club', 'N'],\n",
       " [4, 'Club', 'N'],\n",
       " [5, 'Club', 'N'],\n",
       " [6, 'Club', 'N'],\n",
       " [7, 'Club', 'N'],\n",
       " [8, 'Club', 'N'],\n",
       " [9, 'Club', 'N'],\n",
       " [10, 'Club', 'N'],\n",
       " [11, 'Club', 'N'],\n",
       " [12, 'Club', 'N'],\n",
       " [13, 'Club', 'N'],\n",
       " [14, 'Club', 'N']]"
      ]
     },
     "execution_count": 2,
     "metadata": {},
     "output_type": "execute_result"
    }
   ],
   "source": [
    "card_deck = []\n",
    "\n",
    "i = 2\n",
    "j = 1\n",
    "while i < 15 and j < 5:\n",
    "    card = []\n",
    "    card.append(i)\n",
    "    \n",
    "    if j == 1:\n",
    "        card.append('Heart')\n",
    "    elif j == 2:\n",
    "        card.append('Diamond')\n",
    "    elif j == 3:\n",
    "        card.append('Spade')\n",
    "    elif j == 4:\n",
    "        card.append('Club')\n",
    "    \n",
    "    if i == 2:\n",
    "        card.append('Y')\n",
    "    else:\n",
    "        card.append('N')\n",
    "        \n",
    "    if i == 14:\n",
    "        j = j + 1\n",
    "        i = 1\n",
    "    \n",
    "    card_deck.append(card)\n",
    "    i = i + 1\n",
    "    \n",
    "card_deck"
   ]
  },
  {
   "cell_type": "code",
   "execution_count": 3,
   "id": "103235d1",
   "metadata": {},
   "outputs": [
    {
     "data": {
      "text/plain": [
       "[14, 'Club', 'N']"
      ]
     },
     "execution_count": 3,
     "metadata": {},
     "output_type": "execute_result"
    }
   ],
   "source": [
    "card_deck[51]"
   ]
  },
  {
   "cell_type": "code",
   "execution_count": 4,
   "id": "42e0d2b2",
   "metadata": {},
   "outputs": [
    {
     "data": {
      "text/plain": [
       "[[12, 'Spade', 'N'],\n",
       " [6, 'Heart', 'N'],\n",
       " [2, 'Heart', 'Y'],\n",
       " [5, 'Diamond', 'N'],\n",
       " [5, 'Heart', 'N']]"
      ]
     },
     "execution_count": 4,
     "metadata": {},
     "output_type": "execute_result"
    }
   ],
   "source": [
    "i = 1\n",
    "j = 52\n",
    "card_hand = []\n",
    "\n",
    "while i < 6:\n",
    "    x = random.randrange(0, j)    \n",
    "    dealt_card = card_deck.pop(x)\n",
    "    card_hand.append(dealt_card)\n",
    "    i = i + 1\n",
    "    j = j - 1\n",
    "    \n",
    "first_dealt_hand = card_hand\n",
    "first_dealt_hand"
   ]
  },
  {
   "cell_type": "code",
   "execution_count": 5,
   "id": "9606850a",
   "metadata": {},
   "outputs": [
    {
     "name": "stdout",
     "output_type": "stream",
     "text": [
      "Select Cards to Discard by Position Number:\n",
      "Discarded Cards: []\n",
      "[[12, 'Spade', 'N'], [6, 'Heart', 'N'], [2, 'Heart', 'Y'], [5, 'Diamond', 'N'], [5, 'Heart', 'N']]\n"
     ]
    }
   ],
   "source": [
    "discarded_cards = input(\"Select Cards to Discard by Position Number:\")\n",
    "\n",
    "# string = \"geeks\"\n",
    "\n",
    "discarded_card_position_list = [*discarded_cards]\n",
    "discarded_card_position_list = [i for i in discarded_card_position_list if i.isnumeric()]\n",
    "discarded_card_position_list\n",
    "\n",
    "k = 0\n",
    "discarded_cards = []\n",
    "for item in discarded_card_position_list:\n",
    "    num_item = int(item)\n",
    "    card_position = num_item - k\n",
    "    discard = card_hand.pop(card_position)\n",
    "    discarded_cards.append(discard)\n",
    "    k = k + 1\n",
    "# print(first_dealt_hand)\n",
    "# print(discarded_cards)\n",
    "\n",
    "i = i - len(discarded_card_position_list)\n",
    "# j = 52\n",
    "final_card_hand = card_hand\n",
    "\n",
    "# for item in discarded_cards:\n",
    "#     first_dealt_hand.append(item)\n",
    "\n",
    "# print(first_dealt_hand)\n",
    "# print(discarded_cards)\n",
    "\n",
    "while i < 6:\n",
    "    x = random.randrange(0, j)    \n",
    "    dealt_card = card_deck.pop(x)\n",
    "    final_card_hand.append(dealt_card)\n",
    "    i = i + 1\n",
    "    j = j - 1\n",
    "    \n",
    "print(f'Discarded Cards: {discarded_cards}')\n",
    "print(final_card_hand)"
   ]
  },
  {
   "cell_type": "code",
   "execution_count": 6,
   "id": "072ec750",
   "metadata": {},
   "outputs": [
    {
     "data": {
      "text/plain": [
       "[[12, 'Spade', 'N'],\n",
       " [6, 'Heart', 'N'],\n",
       " [2, 'Heart', 'Y'],\n",
       " [5, 'Diamond', 'N'],\n",
       " [5, 'Heart', 'N']]"
      ]
     },
     "execution_count": 6,
     "metadata": {},
     "output_type": "execute_result"
    }
   ],
   "source": [
    "final_card_hand"
   ]
  },
  {
   "cell_type": "code",
   "execution_count": 7,
   "id": "4f83c630",
   "metadata": {},
   "outputs": [
    {
     "data": {
      "text/plain": [
       "[[12, 'Spade', 'N'],\n",
       " [6, 'Heart', 'N'],\n",
       " [2, 'Heart', 'Y'],\n",
       " [5, 'Diamond', 'N'],\n",
       " [5, 'Heart', 'N']]"
      ]
     },
     "execution_count": 7,
     "metadata": {},
     "output_type": "execute_result"
    }
   ],
   "source": [
    "first_dealt_hand"
   ]
  },
  {
   "cell_type": "code",
   "execution_count": 8,
   "id": "239199bb",
   "metadata": {},
   "outputs": [
    {
     "name": "stdout",
     "output_type": "stream",
     "text": [
      "[[12, 'Spade', 'N'], [6, 'Heart', 'N'], [2, 'Heart', 'Y'], [5, 'Diamond', 'N'], [5, 'Heart', 'N']]\n",
      "[2]\n",
      "[2, 5, 5, 6, 12]\n",
      "[5, 5, 6, 12]\n",
      "['Diamond', 'Heart', 'Heart', 'Heart', 'Spade']\n",
      "['Spade', 'Heart', 'Diamond', 'Heart']\n",
      "[1, 1, 3]\n",
      "['Three of a Kind']\n"
     ]
    }
   ],
   "source": [
    "# Winning hands - Odds\n",
    "print(final_card_hand)\n",
    "winning_hand_indicator = []\n",
    "\n",
    "# Get card numbers and sort them to make it easier to identify winning patters\n",
    "wildcard_position_indicator = 0\n",
    "wildcard_positions = []\n",
    "\n",
    "for third in final_card_hand:\n",
    "    \n",
    "    if third[2] == 'Y':\n",
    "        wildcard_positions.append(wildcard_position_indicator)\n",
    "        \n",
    "    wildcard_position_indicator = wildcard_position_indicator + 1\n",
    "    \n",
    "print(wildcard_positions)\n",
    "\n",
    "\n",
    "# Get card numbers and sort them to make it easier to identify winning patters\n",
    "final_hand_numbers = []\n",
    "final_hand_numbers_no_wildcards = []\n",
    "\n",
    "for first in final_card_hand:\n",
    "    final_hand_numbers.append(first[0])\n",
    "    final_hand_numbers_no_wildcards.append(first[0])\n",
    "    \n",
    "if len(wildcard_positions) > 0:\n",
    "    for i in range(len(wildcard_positions)):\n",
    "        final_hand_numbers_no_wildcards.pop(wildcard_positions[i])\n",
    "        \n",
    "final_hand_numbers.sort()\n",
    "final_hand_numbers_no_wildcards.sort()\n",
    "print(final_hand_numbers)\n",
    "print(final_hand_numbers_no_wildcards)\n",
    "\n",
    "\n",
    "# Get card suits and sort them to make it easier to identify winning patters\n",
    "final_hand_suits = []\n",
    "final_hand_suits_no_wildcards = []\n",
    "\n",
    "for second in final_card_hand:\n",
    "    final_hand_suits.append(second[1])\n",
    "    final_hand_suits_no_wildcards.append(second[1])\n",
    "\n",
    "if len(wildcard_positions) > 0:\n",
    "    for i in range(len(wildcard_positions)):\n",
    "        final_hand_suits_no_wildcards.pop(wildcard_positions[i])\n",
    "\n",
    "    \n",
    "final_hand_suits.sort()\n",
    "print(final_hand_suits)\n",
    "print(final_hand_suits_no_wildcards)\n",
    "\n",
    "\n",
    "\n",
    "# Royal Flush with No Duece - 300\n",
    " \n",
    "\n",
    "# Four Dueces - 200\n",
    "\n",
    "\n",
    "# Royal Flush with Duece - 20\n",
    "\n",
    "\n",
    "# Five of a Kind - 10\n",
    "\n",
    "card_number_count = collections.Counter(final_hand_numbers_no_wildcards)\n",
    "if card_number_count[card_number_count.most_common(1)[0][0]] + len(wildcard_positions) == 5:\n",
    "    winning_hand_indicator.append('Five of a Kind')\n",
    "\n",
    "\n",
    "# Straight Flush - 8\n",
    "\n",
    "\n",
    "# Four of a Kind - 4\n",
    "\n",
    "card_number_count = collections.Counter(final_hand_numbers_no_wildcards)\n",
    "if card_number_count[card_number_count.most_common(1)[0][0]] + len(wildcard_positions) == 4:\n",
    "    winning_hand_indicator.append('Four of a Kind')\n",
    "\n",
    "\n",
    "# Full House - 3\n",
    "\n",
    "\n",
    "# Flush - 2\n",
    "suits_set = set(final_hand_suits)\n",
    "no_wildcard_suits_set = set(final_hand_suits_no_wildcards)\n",
    "\n",
    "if len(suits_set) == 1:\n",
    "    winning_hand_indicator.append('Flush')\n",
    "    \n",
    "elif len(wildcard_positions) > 0:\n",
    "    unique_suits_frequency = []\n",
    "    for item in suits_set:\n",
    "        unique_suits_frequency.append(final_hand_suits.count(item))\n",
    "        if final_hand_suits.count(item) == 4 and len(no_wildcard_suits_set) == 1:\n",
    "            winning_hand_indicator.append('Flush')\n",
    "    print(unique_suits_frequency)\n",
    "\n",
    "\n",
    "# Straight - 2\n",
    "i = 0\n",
    "j = 1\n",
    "for i in range(len(final_hand_numbers_no_wildcards)):\n",
    "    if final_hand_numbers_no_wildcards[j] - final_hand_numbers_no_wildcards[i] == 1:\n",
    "        if j == (len(final_hand_numbers_no_wildcards) - 1):\n",
    "            winning_hand_indicator.append('Straight')\n",
    "            break\n",
    "        else:\n",
    "            i = i + 1\n",
    "            j = j + 1\n",
    "            continue\n",
    "    else:\n",
    "        i = i + 1\n",
    "        j = j + 1\n",
    "        break\n",
    "\n",
    "        \n",
    "# Three of a Kind - 1\n",
    "\n",
    "card_number_count = collections.Counter(final_hand_numbers_no_wildcards)\n",
    "if card_number_count[card_number_count.most_common(1)[0][0]] + len(wildcard_positions) == 3:\n",
    "    winning_hand_indicator.append('Three of a Kind')\n",
    "\n",
    "\n",
    "\n",
    "\n",
    "# Final Decision\n",
    "if len(winning_hand_indicator) == 0:\n",
    "    winning_hand_indicator.append('Loss')\n",
    "\n",
    "print(winning_hand_indicator)"
   ]
  },
  {
   "cell_type": "code",
   "execution_count": 9,
   "id": "ff98110d",
   "metadata": {},
   "outputs": [
    {
     "data": {
      "text/plain": [
       "1"
      ]
     },
     "execution_count": 9,
     "metadata": {},
     "output_type": "execute_result"
    }
   ],
   "source": [
    "len(wildcard_positions)"
   ]
  },
  {
   "cell_type": "code",
   "execution_count": 17,
   "id": "849d38e2",
   "metadata": {},
   "outputs": [
    {
     "name": "stdout",
     "output_type": "stream",
     "text": [
      "Counter: Counter({3: 3, 2: 2})\n",
      "Most Occurred: 3\n",
      "3\n"
     ]
    }
   ],
   "source": [
    "\n",
    "arr = [3,3,3,2,2]\n",
    "counts = collections.Counter(arr)\n",
    "\n",
    "print(\"Counter:\", counts)\n",
    "# counts.most_common()   # Returns all unique items and their counts\n",
    "print(\"Most Occurred:\", counts.most_common(1)[0][0])  # Returns the highest occurring item\n",
    "\n",
    "print(counts[counts.most_common(1)[0][0]])\n"
   ]
  },
  {
   "cell_type": "markdown",
   "id": "cf2f47a7",
   "metadata": {},
   "source": []
  }
 ],
 "metadata": {
  "kernelspec": {
   "display_name": "Python 3 (ipykernel)",
   "language": "python",
   "name": "python3"
  },
  "language_info": {
   "codemirror_mode": {
    "name": "ipython",
    "version": 3
   },
   "file_extension": ".py",
   "mimetype": "text/x-python",
   "name": "python",
   "nbconvert_exporter": "python",
   "pygments_lexer": "ipython3",
   "version": "3.9.7"
  }
 },
 "nbformat": 4,
 "nbformat_minor": 5
}
